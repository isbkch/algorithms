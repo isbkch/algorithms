{
  "nbformat": 4,
  "nbformat_minor": 0,
  "metadata": {
    "colab": {
      "provenance": [],
      "include_colab_link": true
    },
    "kernelspec": {
      "name": "python3",
      "display_name": "Python 3"
    },
    "language_info": {
      "name": "python"
    }
  },
  "cells": [
    {
      "cell_type": "markdown",
      "metadata": {
        "id": "view-in-github",
        "colab_type": "text"
      },
      "source": [
        "<a href=\"https://colab.research.google.com/github/isbkch/algorithms/blob/master/Copy_of_Generating_AI_Photos_Of_You.ipynb\" target=\"_parent\"><img src=\"https://colab.research.google.com/assets/colab-badge.svg\" alt=\"Open In Colab\"/></a>"
      ]
    },
    {
      "cell_type": "code",
      "execution_count": null,
      "metadata": {
        "id": "oh3n9k2M910E"
      },
      "outputs": [],
      "source": [
        "import requests\n",
        "import json\n",
        "import time\n",
        "\n",
        "API_KEY = \"51124f9d-c1db-4af1-b231-4b8871ede467\"\n",
        "\n",
        "HEADERS = {\n",
        "    \"accept\": \"application/json\",\n",
        "    \"content-type\": \"application/json\",\n",
        "    \"authorization\": f\"Bearer {API_KEY}\"\n",
        "}\n",
        "\n",
        "IMAGES = [\n",
        "    \"https://scontent-lga3-2.xx.fbcdn.net/v/t39.30808-6/328469837_5898617053551086_2215835468682256760_n.jpg?_nc_cat=105&ccb=1-7&_nc_sid=09cbfe&_nc_ohc=SlZipNsVjhoAX-MIttP&_nc_ht=scontent-lga3-2.xx&oh=00_AfCqCN3gar75t0wzw0jmyQbpe8Trii75v8y5XxY2uOI2oQ&oe=641A1F35\",\n",
        "    \"https://scontent-lga3-1.xx.fbcdn.net/v/t39.30808-6/322371548_1490776614764941_6022324307691385626_n.jpg?_nc_cat=102&ccb=1-7&_nc_sid=174925&_nc_ohc=CnfiKXpusRQAX_cEW1Z&_nc_ht=scontent-lga3-1.xx&oh=00_AfAuuh_Pfdfclau0KVjMGnTCCT8PBB2F6LCNfSXOBwsHmQ&oe=6419DEA1\",\n",
        "    \"https://scontent-lga3-2.xx.fbcdn.net/v/t39.30808-6/313421341_105353449048885_4875932506936517365_n.jpg?_nc_cat=105&ccb=1-7&_nc_sid=174925&_nc_ohc=vp-vd6Az6dAAX-vZhv6&_nc_ht=scontent-lga3-2.xx&oh=00_AfASmdA3s9bcXU-kKkGZCpT_FamF8nu1tUSzzOzv17gKkA&oe=6419AF28\"\n",
        "]"
      ]
    },
    {
      "cell_type": "code",
      "source": [
        "def create_model(title):\n",
        "    url = \"https://api.tryleap.ai/api/v1/images/models\"\n",
        "\n",
        "    payload = {\n",
        "        \"title\": title,\n",
        "        \"subjectKeyword\": \"@me\"\n",
        "    }\n",
        "\n",
        "    response = requests.post(url, json=payload, headers=HEADERS)\n",
        "\n",
        "    model_id = json.loads(response.text)[\"id\"]\n",
        "    return model_id\n",
        "\n",
        "\n",
        "def upload_image_samples(model_id):\n",
        "    url = f\"https://api.tryleap.ai/api/v1/images/models/{model_id}/samples/url\"\n",
        "\n",
        "    payload = {\"images\": IMAGES}\n",
        "    response = requests.post(url, json=payload, headers=HEADERS)\n",
        "\n",
        "\n",
        "def queue_training_job(model_id):\n",
        "    url = f\"https://api.tryleap.ai/api/v1/images/models/{model_id}/queue\"\n",
        "    response = requests.post(url, headers=HEADERS)\n",
        "    data = json.loads(response.text)\n",
        "\n",
        "    print(response.text)\n",
        "\n",
        "    version_id = data[\"id\"]\n",
        "    status = data[\"status\"]\n",
        "\n",
        "    print(f\"Version ID: {version_id}. Status: {status}\")\n",
        "\n",
        "    return version_id, status\n",
        "\n",
        "\n",
        "def get_model_version(model_id, version_id):\n",
        "    url = f\"https://api.tryleap.ai/api/v1/images/models/{model_id}/versions/{version_id}\"\n",
        "    response = requests.get(url, headers=HEADERS)\n",
        "    data = json.loads(response.text)\n",
        "\n",
        "    version_id = data[\"id\"]\n",
        "    status = data[\"status\"]\n",
        "\n",
        "    print(f\"Version ID: {version_id}. Status: {status}\")\n",
        "\n",
        "    return version_id, status\n",
        "\n",
        "\n",
        "def generate_image(model_id, prompt):\n",
        "    url = f\"https://api.tryleap.ai/api/v1/images/models/{model_id}/inferences\"\n",
        "\n",
        "    payload = {\n",
        "        \"prompt\": prompt,\n",
        "        \"steps\": 50,\n",
        "        \"width\": 512,\n",
        "        \"height\": 512,\n",
        "        \"numberOfImages\": 1,\n",
        "        \"seed\": 4523184\n",
        "    }\n",
        "\n",
        "    response = requests.post(url, json=payload, headers=HEADERS)\n",
        "    data = json.loads(response.text)\n",
        "\n",
        "    inference_id = data[\"id\"]\n",
        "    status = data[\"status\"]\n",
        "\n",
        "    print(f\"Inference ID: {inference_id}. Status: {status}\")\n",
        "\n",
        "    return inference_id, status\n",
        "\n",
        "\n",
        "def get_inference_job(model_id, inference_id):\n",
        "    url = f\"https://api.tryleap.ai/api/v1/images/models/{model_id}/inferences/{inference_id}\"\n",
        "\n",
        "    response = requests.get(url, headers=HEADERS)\n",
        "    data = json.loads(response.text)\n",
        "\n",
        "    inference_id = data[\"id\"]\n",
        "    state = data[\"state\"]\n",
        "    image = None\n",
        "\n",
        "    if len(data[\"images\"]):\n",
        "        image = data[\"images\"][0][\"uri\"]\n",
        "\n",
        "    print(f\"Inference ID: {inference_id}. State: {state}\")\n",
        "\n",
        "    return inference_id, state, image\n",
        "\n",
        "\n"
      ],
      "metadata": {
        "id": "seoBu0hK_ijD"
      },
      "execution_count": null,
      "outputs": []
    },
    {
      "cell_type": "code",
      "source": [
        "# Let's create a custom model so we can fine tune it.\n",
        "model_id = create_model(\"Sample\")\n",
        "\n",
        "# We now upload the images to fine tune this model.\n",
        "upload_image_samples(model_id)\n",
        "\n",
        "# Now it's time to fine tune the model. Notice how I'm continuously \n",
        "# getting the status of the training job and waiting until it's\n",
        "# finished before moving on.\n",
        "version_id, status = queue_training_job(model_id)\n",
        "while status != \"finished\":\n",
        "    time.sleep(10)\n",
        "    version_id, status = get_model_version(model_id, version_id)\n",
        "\n"
      ],
      "metadata": {
        "id": "qhmrCli2BwoK"
      },
      "execution_count": null,
      "outputs": []
    },
    {
      "cell_type": "code",
      "source": [
        "# Now that we have a fine-tuned version of a model, we can\n",
        "# generate images using it. Notice how I'm using '@me' to \n",
        "# indicate I want pictures similar to the ones we upload to \n",
        "# fine tune this model.\n",
        "inference_id, status = generate_image(\n",
        "    model_id, \n",
        "    prompt=\"A photo of @me with a tall black hat and sunglasses\"\n",
        ")\n",
        "while status != \"finished\":\n",
        "    time.sleep(10)\n",
        "    inference_id, status, image = get_inference_job(model_id, inference_id)\n",
        "\n",
        "print(image)"
      ],
      "metadata": {
        "id": "_pXpe_iiCkqq"
      },
      "execution_count": null,
      "outputs": []
    },
    {
      "cell_type": "code",
      "source": [],
      "metadata": {
        "id": "nJPkQfJhRih6"
      },
      "execution_count": null,
      "outputs": []
    }
  ]
}